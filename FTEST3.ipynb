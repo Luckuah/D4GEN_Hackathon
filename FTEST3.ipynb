{
 "cells": [
  {
   "cell_type": "code",
   "execution_count": 1,
   "id": "949d0792-ae36-494a-ae76-1678cc34945f",
   "metadata": {
    "tags": []
   },
   "outputs": [],
   "source": [
    "import torch\n",
    "from torch.utils.data import DataLoader\n",
    "import pandas as pd\n",
    "from sklearn.model_selection import train_test_split\n",
    "from torch.utils.data import Dataset\n",
    "import torch.nn as nn  \n",
    "import torch.optim as optim\n"
   ]
  },
  {
   "cell_type": "code",
   "execution_count": 2,
   "id": "b43ab93d-e6b0-4636-afd9-25c111e8e3f1",
   "metadata": {},
   "outputs": [],
   "source": [
    "class CustomDataset(Dataset):\n",
    "    def __init__(self, csv_file):\n",
    "        self.data = pd.read_csv(csv_file)\n",
    "        self.features = self.data.iloc[:, :-1].values\n",
    "        self.targets = self.data.iloc[:, -1].values\n",
    "\n",
    "    def __len__(self):\n",
    "        return len(self.data)\n",
    "\n",
    "    def __getitem__(self, idx):\n",
    "        features = torch.tensor(self.features[idx], dtype=torch.float32)\n",
    "        target = torch.tensor(self.targets[idx], dtype=torch.float32)  \n",
    "        return features, target\n",
    "\n",
    "csv_file = \"./eda_features.csv\"\n",
    "dataset = CustomDataset(csv_file)\n",
    "\n",
    "train_set, test_set = train_test_split(dataset, test_size=0.2, random_state=42)\n",
    "\n",
    "train_loader = DataLoader(train_set, batch_size=480, shuffle=True)\n",
    "test_loader = DataLoader(test_set, batch_size=1, shuffle=True)\n"
   ]
  },
  {
   "cell_type": "code",
   "execution_count": 3,
   "id": "9f31c657-4182-42bb-88b0-7b10320229e1",
   "metadata": {},
   "outputs": [],
   "source": [
    "class MLP(nn.Module):\n",
    "    def __init__(self):\n",
    "        super().__init__()\n",
    "        self.in_dim = 6\n",
    "        self.out_dim = 1\n",
    "        self.fc1 = nn.Linear(self.in_dim, 4)\n",
    "        self.fc2 = nn.Linear(4, 2)\n",
    "        self.fc3 = nn.Linear(2, self.out_dim)\n",
    "        self.relu = nn.ReLU()\n",
    "        self.log_softmax = nn.LogSoftmax(dim=1)\n",
    "    \n",
    "    def forward(self, x):\n",
    "        a1 = self.relu(self.fc1(x))\n",
    "        a2 = self.relu(self.fc2(a1))\n",
    "        output = self.fc3(a2)  # Pas besoin de log_softmax pour la régression\n",
    "        return output"
   ]
  },
  {
   "cell_type": "code",
   "execution_count": 16,
   "id": "dbebed3a-5bb3-44f4-b610-9c4ba8338228",
   "metadata": {
    "tags": []
   },
   "outputs": [
    {
     "name": "stdout",
     "output_type": "stream",
     "text": [
      "[1,   200] loss: 8602.641\n",
      "[1,   400] loss: 0.065\n",
      "[1,   600] loss: 0.062\n",
      "[1,   800] loss: 0.059\n",
      "[1,  1000] loss: 0.056\n",
      "[1,  1200] loss: 0.054\n",
      "[1,  1400] loss: 0.052\n",
      "[2,   200] loss: 0.049\n",
      "[2,   400] loss: 0.047\n",
      "[2,   600] loss: 0.046\n",
      "[2,   800] loss: 0.044\n",
      "[2,  1000] loss: 0.043\n",
      "[2,  1200] loss: 0.041\n",
      "[2,  1400] loss: 0.040\n",
      "[3,   200] loss: 0.038\n",
      "[3,   400] loss: 0.038\n",
      "[3,   600] loss: 0.037\n",
      "[3,   800] loss: 0.036\n",
      "[3,  1000] loss: 0.035\n",
      "[3,  1200] loss: 0.034\n",
      "[3,  1400] loss: 0.033\n",
      "[4,   200] loss: 0.033\n",
      "[4,   400] loss: 0.032\n",
      "[4,   600] loss: 0.031\n",
      "[4,   800] loss: 0.031\n",
      "[4,  1000] loss: 0.030\n",
      "[4,  1200] loss: 0.030\n",
      "[4,  1400] loss: 0.030\n",
      "[5,   200] loss: 0.029\n",
      "[5,   400] loss: 0.029\n",
      "[5,   600] loss: 0.028\n",
      "[5,   800] loss: 0.028\n",
      "[5,  1000] loss: 0.028\n",
      "[5,  1200] loss: 0.028\n",
      "[5,  1400] loss: 0.027\n",
      "[6,   200] loss: 0.027\n",
      "[6,   400] loss: 0.027\n",
      "[6,   600] loss: 0.027\n",
      "[6,   800] loss: 0.027\n",
      "[6,  1000] loss: 0.026\n",
      "[6,  1200] loss: 0.026\n",
      "[6,  1400] loss: 0.026\n",
      "[7,   200] loss: 0.026\n",
      "[7,   400] loss: 0.026\n",
      "[7,   600] loss: 0.026\n",
      "[7,   800] loss: 0.026\n",
      "[7,  1000] loss: 0.026\n",
      "[7,  1200] loss: 0.026\n",
      "[7,  1400] loss: 0.025\n",
      "[8,   200] loss: 0.025\n",
      "[8,   400] loss: 0.025\n",
      "[8,   600] loss: 0.025\n",
      "[8,   800] loss: 0.025\n",
      "[8,  1000] loss: 0.025\n",
      "[8,  1200] loss: 0.025\n",
      "[8,  1400] loss: 0.025\n",
      "[9,   200] loss: 0.025\n",
      "[9,   400] loss: 0.025\n",
      "[9,   600] loss: 0.025\n",
      "[9,   800] loss: 0.025\n",
      "[9,  1000] loss: 0.025\n",
      "[9,  1200] loss: 0.025\n",
      "[9,  1400] loss: 0.025\n",
      "[10,   200] loss: 0.025\n",
      "[10,   400] loss: 0.025\n",
      "[10,   600] loss: 0.025\n",
      "[10,   800] loss: 0.025\n",
      "[10,  1000] loss: 0.025\n",
      "[10,  1200] loss: 0.025\n",
      "[10,  1400] loss: 0.025\n",
      "Finished Training\n"
     ]
    }
   ],
   "source": [
    "model = MLP()\n",
    "criterion = nn.MSELoss()  # Utilisation de MSELoss pour la régression\n",
    "optimizer = optim.SGD(model.parameters(), lr=0.0001)\n",
    "\n",
    "for epoch in range(10):\n",
    "    running_loss = 0.0\n",
    "    ancienRunning=-1\n",
    "    for i, data in enumerate(train_loader, 0):\n",
    "        inputs, labels = data\n",
    "        optimizer.zero_grad()\n",
    "        outputs = model(inputs)\n",
    "        loss = criterion(outputs.squeeze(), labels)  # Squeeze pour éliminer les dimensions inutiles\n",
    "        loss.backward()\n",
    "        optimizer.step()\n",
    "        running_loss += loss.item()\n",
    "        \n",
    "        \n",
    "        if (i + 1) % 200 == 0:\n",
    "            print('[%d, %5d] loss: %.3f' % (epoch + 1, i + 1, running_loss / 2000))\n",
    "            running_loss = 0.0\n",
    "\n",
    "print('Finished Training')\n"
   ]
  },
  {
   "cell_type": "code",
   "execution_count": 17,
   "id": "08d426cb-cf1a-4db3-8928-9ef2adc7cd98",
   "metadata": {},
   "outputs": [
    {
     "name": "stdout",
     "output_type": "stream",
     "text": [
      "Test Loss: 0.2474, Accuracy: 56.50%\n"
     ]
    }
   ],
   "source": [
    "def test_model(model, test_loader, criterion):\n",
    "    model.eval()  # Mettre le modèle en mode évaluation\n",
    "    test_loss = 0.0\n",
    "    correct = 0\n",
    "    total = 0\n",
    "    with torch.no_grad():  # Désactiver le calcul des gradients pendant l'évaluation\n",
    "        for inputs, labels in test_loader:\n",
    "            outputs = model(inputs)\n",
    "            loss = criterion(outputs.squeeze(), labels.float())  # Convertir les étiquettes en type float\n",
    "            test_loss += loss.item()\n",
    "            # Calcul de la précision\n",
    "            predicted = torch.round(outputs).squeeze()  # Arrondir les prédictions\n",
    "            #print(outputs ,\"     rechercher : \" , labels) \n",
    "            \n",
    "            correct += (predicted == labels).sum().item()\n",
    "            total += labels.size(0)\n",
    "    \n",
    "    # Afficher les résultats\n",
    "    avg_loss = test_loss / len(test_loader)\n",
    "    accuracy = correct / total\n",
    "    print('Test Loss: {:.4f}, Accuracy: {:.2f}%'.format(avg_loss, accuracy * 100))\n",
    "\n",
    "# Utiliser la fonction test_model pour évaluer le modèle\n",
    "test_model(model, test_loader, criterion)\n"
   ]
  },
  {
   "cell_type": "code",
   "execution_count": 7,
   "id": "11df5597-a5c4-456c-92f8-b1fe5ce18aed",
   "metadata": {
    "tags": []
   },
   "outputs": [
    {
     "name": "stdout",
     "output_type": "stream",
     "text": [
      "fc1.weight tensor([[-1.4461e+05, -3.1620e-01, -5.0942e-01, -6.7689e-01, -2.0451e+00,\n",
      "         -4.2608e-01],\n",
      "        [-4.4345e+04,  1.5147e-01, -3.1170e-01, -2.6614e-01, -7.6081e-01,\n",
      "          9.8790e-02],\n",
      "        [-1.7681e-01,  3.4868e-01, -3.4122e-01,  3.0015e-02,  2.2122e-01,\n",
      "          9.9120e-02],\n",
      "        [-4.0587e-02,  2.4573e-02, -3.3553e-01,  2.5931e-01,  2.5914e-01,\n",
      "         -2.8293e-01]])\n",
      "fc2.weight tensor([[ 2.4587e-01, -4.4254e-01,  3.9038e-01,  9.6435e-02],\n",
      "        [-1.2433e+05, -1.4219e+05,  6.0256e-02,  9.1557e-02]])\n",
      "fc3.weight tensor([[-2.7233e-01, -2.5801e+05]])\n"
     ]
    }
   ],
   "source": [
    "# Supposons que 'model' soit votre modèle PyTorch\n",
    "# Vous pouvez afficher les poids des neurones comme ceci :\n",
    "for name, param in model.named_parameters():\n",
    "    if 'weight' in name:\n",
    "        print(name, param.data)"
   ]
  },
  {
   "cell_type": "code",
   "execution_count": null,
   "id": "5f2a3193-8927-4de6-ae9b-c796610303f9",
   "metadata": {},
   "outputs": [],
   "source": []
  }
 ],
 "metadata": {
  "kernelspec": {
   "display_name": "conda_pytorch_p310",
   "language": "python",
   "name": "conda_pytorch_p310"
  },
  "language_info": {
   "codemirror_mode": {
    "name": "ipython",
    "version": 3
   },
   "file_extension": ".py",
   "mimetype": "text/x-python",
   "name": "python",
   "nbconvert_exporter": "python",
   "pygments_lexer": "ipython3",
   "version": "3.10.13"
  }
 },
 "nbformat": 4,
 "nbformat_minor": 5
}
