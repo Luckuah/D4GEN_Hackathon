{
 "cells": [
  {
   "cell_type": "code",
   "execution_count": 1,
   "id": "949d0792-ae36-494a-ae76-1678cc34945f",
   "metadata": {
    "tags": []
   },
   "outputs": [],
   "source": [
    "import torch\n",
    "from torch.utils.data import DataLoader\n",
    "import pandas as pd\n",
    "from sklearn.model_selection import train_test_split\n",
    "from torch.utils.data import Dataset\n",
    "import torch.nn as nn  \n",
    "import torch.optim as optim\n"
   ]
  },
  {
   "cell_type": "code",
   "execution_count": 2,
   "id": "b43ab93d-e6b0-4636-afd9-25c111e8e3f1",
   "metadata": {},
   "outputs": [],
   "source": [
    "class CustomDataset(Dataset):\n",
    "    def __init__(self, csv_file):\n",
    "        self.data = pd.read_csv(csv_file)\n",
    "        self.features = self.data.iloc[:, :-1].values\n",
    "        self.targets = self.data.iloc[:, -1].values\n",
    "\n",
    "    def __len__(self):\n",
    "        return len(self.data)\n",
    "\n",
    "    def __getitem__(self, idx):\n",
    "        features = torch.tensor(self.features[idx], dtype=torch.float32)\n",
    "        target = torch.tensor(self.targets[idx], dtype=torch.float32)  \n",
    "        return features, target\n",
    "\n",
    "csv_file = \"./MEFAR_MID.csv\"\n",
    "dataset = CustomDataset(csv_file)\n",
    "\n",
    "train_set, test_set = train_test_split(dataset, test_size=0.2, random_state=42)\n",
    "\n",
    "train_loader = DataLoader(train_set, batch_size=10, shuffle=True)\n",
    "test_loader = DataLoader(test_set, batch_size=1, shuffle=True)\n"
   ]
  },
  {
   "cell_type": "code",
   "execution_count": 3,
   "id": "9f31c657-4182-42bb-88b0-7b10320229e1",
   "metadata": {},
   "outputs": [],
   "source": [
    "class MLP(nn.Module):\n",
    "    def __init__(self):\n",
    "        super().__init__()\n",
    "        self.in_dim = 17\n",
    "        self.out_dim = 1\n",
    "        self.fc1 = nn.Linear(self.in_dim, 16)\n",
    "        self.fc2 = nn.Linear(16, 8)\n",
    "        self.fc3 = nn.Linear(8, 4)\n",
    "        self.fc4 = nn.Linear(4, 2)\n",
    "        self.fc5 = nn.Linear(2, self.out_dim)\n",
    "        self.relu = nn.ReLU()\n",
    "        self.log_softmax = nn.LogSoftmax(dim=1)\n",
    "    \n",
    "    def forward(self, x):\n",
    "        a1 = self.relu(self.fc1(x))\n",
    "        a2 = self.relu(self.fc2(a1))\n",
    "        a3 = self.relu(self.fc3(a2))\n",
    "        a4 = self.relu(self.fc4(a3))\n",
    "        output = self.fc5(a4)  # Pas besoin de log_softmax pour la régression\n",
    "        return output"
   ]
  },
  {
   "cell_type": "code",
   "execution_count": 5,
   "id": "dbebed3a-5bb3-44f4-b610-9c4ba8338228",
   "metadata": {
    "tags": []
   },
   "outputs": [
    {
     "name": "stdout",
     "output_type": "stream",
     "text": [
      "[1,  2000] loss: 0.235\n",
      "[1,  4000] loss: 0.217\n",
      "[1,  6000] loss: 0.208\n",
      "[1,  8000] loss: 0.184\n",
      "[1, 10000] loss: 0.166\n",
      "[1, 12000] loss: 0.158\n",
      "[1, 14000] loss: 0.154\n",
      "[1, 16000] loss: 0.143\n",
      "[1, 18000] loss: 0.136\n",
      "[1, 20000] loss: 0.133\n",
      "[1, 22000] loss: 0.129\n",
      "[1, 24000] loss: 0.124\n",
      "[1, 26000] loss: 0.120\n",
      "[1, 28000] loss: 0.118\n",
      "[1, 30000] loss: 0.117\n",
      "[1, 32000] loss: 0.114\n",
      "[1, 34000] loss: 0.112\n",
      "[1, 36000] loss: 0.110\n",
      "[1, 38000] loss: 0.110\n",
      "[1, 40000] loss: 0.109\n",
      "[1, 42000] loss: 0.108\n",
      "[1, 44000] loss: 0.106\n",
      "[1, 46000] loss: 0.105\n",
      "[1, 48000] loss: 0.103\n",
      "[1, 50000] loss: 0.105\n",
      "[1, 52000] loss: 0.107\n",
      "[1, 54000] loss: 0.103\n",
      "[1, 56000] loss: 0.104\n",
      "[1, 58000] loss: 0.102\n",
      "[1, 60000] loss: 0.102\n",
      "[1, 62000] loss: 0.102\n",
      "[1, 64000] loss: 0.101\n",
      "[1, 66000] loss: 0.103\n",
      "[1, 68000] loss: 0.101\n",
      "[1, 70000] loss: 0.100\n",
      "[1, 72000] loss: 0.098\n",
      "[2,  2000] loss: 0.098\n",
      "[2,  4000] loss: 0.095\n",
      "[2,  6000] loss: 0.098\n",
      "[2,  8000] loss: 0.096\n",
      "[2, 10000] loss: 0.096\n",
      "[2, 12000] loss: 0.095\n",
      "[2, 14000] loss: 0.097\n",
      "[2, 16000] loss: 0.094\n",
      "[2, 18000] loss: 0.095\n",
      "[2, 20000] loss: 0.097\n",
      "[2, 22000] loss: 0.096\n",
      "[2, 24000] loss: 0.096\n",
      "[2, 26000] loss: 0.096\n",
      "[2, 28000] loss: 0.093\n",
      "[2, 30000] loss: 0.092\n",
      "[2, 32000] loss: 0.093\n",
      "[2, 34000] loss: 0.095\n",
      "[2, 36000] loss: 0.091\n",
      "[2, 38000] loss: 0.094\n",
      "[2, 40000] loss: 0.094\n",
      "[2, 42000] loss: 0.093\n",
      "[2, 44000] loss: 0.093\n",
      "[2, 46000] loss: 0.090\n",
      "[2, 48000] loss: 0.092\n",
      "[2, 50000] loss: 0.090\n",
      "[2, 52000] loss: 0.091\n",
      "[2, 54000] loss: 0.090\n",
      "[2, 56000] loss: 0.092\n",
      "[2, 58000] loss: 0.090\n",
      "[2, 60000] loss: 0.092\n",
      "[2, 62000] loss: 0.087\n",
      "[2, 64000] loss: 0.090\n",
      "[2, 66000] loss: 0.089\n",
      "[2, 68000] loss: 0.092\n",
      "[2, 70000] loss: 0.088\n",
      "[2, 72000] loss: 0.088\n",
      "Finished Training\n"
     ]
    }
   ],
   "source": [
    "model = MLP()\n",
    "criterion = nn.MSELoss()  # Utilisation de MSELoss pour la régression\n",
    "optimizer = optim.SGD(model.parameters(), lr=0.1)\n",
    "\n",
    "for epoch in range(2):\n",
    "    running_loss = 0.0\n",
    "    ancienRunning=-1\n",
    "    for i, data in enumerate(train_loader, 0):\n",
    "        if (abs(ancienRunning-running_loss)<0.001):\n",
    "            optimizer = optim.SGD(model.parameters(), lr=0.00001)\n",
    "        inputs, labels = data\n",
    "        optimizer.zero_grad()\n",
    "        outputs = model(inputs)\n",
    "        loss = criterion(outputs.squeeze(), labels)  # Squeeze pour éliminer les dimensions inutiles\n",
    "        loss.backward()\n",
    "        optimizer.step()\n",
    "        running_loss += loss.item()\n",
    "        \n",
    "        \n",
    "        if (i + 1) % 2000 == 0:\n",
    "            print('[%d, %5d] loss: %.3f' % (epoch + 1, i + 1, running_loss / 2000))\n",
    "            running_loss = 0.0\n",
    "\n",
    "print('Finished Training')\n"
   ]
  },
  {
   "cell_type": "code",
   "execution_count": 6,
   "id": "08d426cb-cf1a-4db3-8928-9ef2adc7cd98",
   "metadata": {},
   "outputs": [
    {
     "name": "stderr",
     "output_type": "stream",
     "text": [
      "/home/ec2-user/anaconda3/envs/pytorch_p310/lib/python3.10/site-packages/torch/nn/modules/loss.py:535: UserWarning: Using a target size (torch.Size([1])) that is different to the input size (torch.Size([])). This will likely lead to incorrect results due to broadcasting. Please ensure they have the same size.\n",
      "  return F.mse_loss(input, target, reduction=self.reduction)\n"
     ]
    },
    {
     "name": "stdout",
     "output_type": "stream",
     "text": [
      "Test Loss: 0.0824, Accuracy: 89.14%\n"
     ]
    }
   ],
   "source": [
    "def test_model(model, test_loader, criterion):\n",
    "    model.eval()  # Mettre le modèle en mode évaluation\n",
    "    test_loss = 0.0\n",
    "    correct = 0\n",
    "    total = 0\n",
    "    with torch.no_grad():  # Désactiver le calcul des gradients pendant l'évaluation\n",
    "        for inputs, labels in test_loader:\n",
    "            outputs = model(inputs)\n",
    "            loss = criterion(outputs.squeeze(), labels.float())  # Convertir les étiquettes en type float\n",
    "            test_loss += loss.item()\n",
    "            # Calcul de la précision\n",
    "            predicted = torch.round(outputs).squeeze()  # Arrondir les prédictions\n",
    "            #print(outputs ,\"     rechercher : \" , labels) \n",
    "            \n",
    "            correct += (predicted == labels).sum().item()\n",
    "            total += labels.size(0)\n",
    "    \n",
    "    # Afficher les résultats\n",
    "    avg_loss = test_loss / len(test_loader)\n",
    "    accuracy = correct / total\n",
    "    print('Test Loss: {:.4f}, Accuracy: {:.2f}%'.format(avg_loss, accuracy * 100))\n",
    "\n",
    "# Utiliser la fonction test_model pour évaluer le modèle\n",
    "test_model(model, test_loader, criterion)\n"
   ]
  },
  {
   "cell_type": "code",
   "execution_count": 7,
   "id": "e90f1770-386c-4eba-a425-cd0e10d9e925",
   "metadata": {},
   "outputs": [],
   "source": [
    "torch.save(model.state_dict(), 'FligneBS10.pth')"
   ]
  },
  {
   "cell_type": "code",
   "execution_count": null,
   "id": "32b88526-8706-4d53-94b2-b5456990c108",
   "metadata": {},
   "outputs": [],
   "source": []
  }
 ],
 "metadata": {
  "kernelspec": {
   "display_name": "conda_pytorch_p310",
   "language": "python",
   "name": "conda_pytorch_p310"
  },
  "language_info": {
   "codemirror_mode": {
    "name": "ipython",
    "version": 3
   },
   "file_extension": ".py",
   "mimetype": "text/x-python",
   "name": "python",
   "nbconvert_exporter": "python",
   "pygments_lexer": "ipython3",
   "version": "3.10.13"
  }
 },
 "nbformat": 4,
 "nbformat_minor": 5
}
