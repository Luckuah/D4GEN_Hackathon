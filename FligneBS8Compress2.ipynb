{
 "cells": [
  {
   "cell_type": "code",
   "execution_count": 12,
   "id": "4b0a1f06-cca4-46ad-8f2c-789d1c572996",
   "metadata": {
    "tags": []
   },
   "outputs": [],
   "source": [
    "import torch\n",
    "from torch.utils.data import DataLoader\n",
    "import pandas as pd\n",
    "from sklearn.model_selection import train_test_split\n",
    "from torch.utils.data import Dataset\n",
    "import torch.nn as nn  \n",
    "import torch.optim as optim\n",
    "\n",
    "class CustomDataset(Dataset):\n",
    "    def __init__(self, csv_file):\n",
    "        self.data = pd.read_csv(csv_file)\n",
    "        self.features = self.data.iloc[:, :-1].values\n",
    "        self.targets = self.data.iloc[:, -1].values\n",
    "\n",
    "    def __len__(self):\n",
    "        return len(self.data)\n",
    "\n",
    "    def __getitem__(self, idx):\n",
    "        features = torch.tensor(self.features[idx], dtype=torch.float32)\n",
    "        target = torch.tensor(self.targets[idx], dtype=torch.float32)  \n",
    "        return features, target\n",
    "\n",
    "csv_file = \"./MEFAR_MID_sansEEG.csv\"\n",
    "dataset = CustomDataset(csv_file)\n",
    "\n",
    "train_set, test_set = train_test_split(dataset, test_size=0.2, random_state=42)\n",
    "\n",
    "train_loader = DataLoader(train_set, batch_size=7, shuffle=True)\n",
    "test_loader = DataLoader(test_set, batch_size=1, shuffle=True)\n",
    "\n",
    "class MLP(nn.Module):\n",
    "    def __init__(self):\n",
    "        super().__init__()\n",
    "        self.in_dim = 7\n",
    "        self.out_dim = 1\n",
    "        self.fc1 = nn.Linear(self.in_dim, 4)\n",
    "        self.fc2 = nn.Linear(4, self.out_dim)\n",
    "        self.relu = nn.LeakyReLU(negative_slope=0.0001)\n",
    "        self.tanh=nn.Tanh()\n",
    "        self.sigmoid=nn.Sigmoid()\n",
    "        self.log_softmax = nn.LogSoftmax(dim=1)\n",
    "    \n",
    "    def forward(self, x):\n",
    "        a1 = self.tanh(self.fc1(x))\n",
    "        output = self.sigmoid(self.fc2(a1))  # Pas besoin de log_softmax pour la régression\n",
    "        return output\n"
   ]
  },
  {
   "cell_type": "code",
   "execution_count": 13,
   "id": "5f2a3193-8927-4de6-ae9b-c796610303f9",
   "metadata": {},
   "outputs": [
    {
     "name": "stdout",
     "output_type": "stream",
     "text": [
      "[1,  2000] loss: 0.222\n",
      "[1,  4000] loss: 0.217\n",
      "[1,  6000] loss: 0.210\n",
      "[1,  8000] loss: 0.201\n",
      "[1, 10000] loss: 0.193\n",
      "[1, 12000] loss: 0.181\n",
      "[1, 14000] loss: 0.165\n",
      "[1, 16000] loss: 0.151\n",
      "[1, 18000] loss: 0.142\n",
      "[1, 20000] loss: 0.136\n",
      "[1, 22000] loss: 0.134\n",
      "[1, 24000] loss: 0.132\n",
      "[1, 26000] loss: 0.129\n",
      "[1, 28000] loss: 0.128\n",
      "[1, 30000] loss: 0.127\n",
      "[1, 32000] loss: 0.128\n",
      "[1, 34000] loss: 0.129\n",
      "[1, 36000] loss: 0.129\n",
      "[1, 38000] loss: 0.128\n",
      "[1, 40000] loss: 0.128\n",
      "[1, 42000] loss: 0.126\n",
      "[1, 44000] loss: 0.126\n",
      "[1, 46000] loss: 0.126\n",
      "[1, 48000] loss: 0.129\n",
      "[1, 50000] loss: 0.126\n",
      "Finished Training\n"
     ]
    }
   ],
   "source": [
    "model = MLP()\n",
    "criterion = nn.MSELoss()  # Utilisation de MSELoss pour la régression\n",
    "optimizer = optim.Adam(model.parameters(), lr=0.01)\n",
    "\n",
    "for epoch in range(1):\n",
    "    running_loss = 0.0\n",
    "    ancienRunning=-1\n",
    "    for i, data in enumerate(train_loader, 0):\n",
    "        if (abs(ancienRunning-running_loss)<0.001):\n",
    "            optimizer = optim.Adam(model.parameters(), lr=0.00001)\n",
    "        inputs, labels = data\n",
    "        optimizer.zero_grad()\n",
    "        outputs = model(inputs)\n",
    "        loss = criterion(outputs.squeeze(), labels)  # Squeeze pour éliminer les dimensions inutiles\n",
    "        loss.backward()\n",
    "        # Clipping de gradient\n",
    "        torch.nn.utils.clip_grad_norm_(model.parameters(), max_norm=100.0)  # Vous pouvez ajuster la valeur de max_norm selon vos besoins\n",
    "        if (i==50000):\n",
    "            break\n",
    "        optimizer.step()\n",
    "        running_loss += loss.item()\n",
    "        if (i + 1) % 2000 == 0:\n",
    "            print('[%d, %5d] loss: %.3f' % (epoch + 1, i + 1, running_loss / 2000))\n",
    "            running_loss = 0.0\n",
    "\n",
    "print('Finished Training')\n"
   ]
  },
  {
   "cell_type": "code",
   "execution_count": 14,
   "id": "08d426cb-cf1a-4db3-8928-9ef2adc7cd98",
   "metadata": {},
   "outputs": [
    {
     "name": "stderr",
     "output_type": "stream",
     "text": [
      "/home/ec2-user/anaconda3/envs/pytorch_p310/lib/python3.10/site-packages/torch/nn/modules/loss.py:535: UserWarning: Using a target size (torch.Size([1])) that is different to the input size (torch.Size([])). This will likely lead to incorrect results due to broadcasting. Please ensure they have the same size.\n",
      "  return F.mse_loss(input, target, reduction=self.reduction)\n"
     ]
    },
    {
     "name": "stdout",
     "output_type": "stream",
     "text": [
      "Test Loss: 0.1190, Accuracy: 83.58%\n"
     ]
    }
   ],
   "source": [
    "def test_model(model, test_loader, criterion):\n",
    "    model.eval()  # Mettre le modèle en mode évaluation\n",
    "    test_loss = 0.0\n",
    "    correct = 0\n",
    "    total = 0\n",
    "    with torch.no_grad():  # Désactiver le calcul des gradients pendant l'évaluation\n",
    "        for inputs, labels in test_loader:\n",
    "            outputs = model(inputs)\n",
    "            loss = criterion(outputs.squeeze(), labels.float())  # Convertir les étiquettes en type float\n",
    "            test_loss += loss.item()\n",
    "            # Calcul de la précision\n",
    "            predicted = torch.round(outputs).squeeze()  # Arrondir les prédictions\n",
    "            #print(outputs ,\"     rechercher : \" , labels) \n",
    "            \n",
    "            correct += (predicted == labels).sum().item()\n",
    "            total += labels.size(0)\n",
    "    \n",
    "    # Afficher les résultats\n",
    "    avg_loss = test_loss / len(test_loader)\n",
    "    accuracy = correct / total\n",
    "    print('Test Loss: {:.4f}, Accuracy: {:.2f}%'.format(avg_loss, accuracy * 100))\n",
    "\n",
    "# Utiliser la fonction test_model pour évaluer le modèle\n",
    "test_model(model, test_loader, criterion)\n"
   ]
  },
  {
   "cell_type": "code",
   "execution_count": 15,
   "id": "11df5597-a5c4-456c-92f8-b1fe5ce18aed",
   "metadata": {
    "tags": []
   },
   "outputs": [
    {
     "name": "stdout",
     "output_type": "stream",
     "text": [
      "fc1.weight tensor([[-0.9875,  4.5964,  3.7591, -1.4531,  1.3666,  0.1604, -0.9809],\n",
      "        [ 0.5353, -1.2062,  1.5831, -0.3493,  0.7210, -0.6903,  6.5938],\n",
      "        [ 0.0360, -1.6728,  3.2348, -0.4110, -0.9494,  0.3122,  4.3936],\n",
      "        [-0.3583, -3.8716,  4.8726, -0.2780,  0.3309, -0.0482,  1.7401]])\n",
      "fc2.weight tensor([[ 5.7486, -3.6492,  3.5809, -5.5602]])\n"
     ]
    }
   ],
   "source": [
    "# Supposons que 'model' soit votre modèle PyTorch\n",
    "# Vous pouvez afficher les poids des neurones comme ceci :\n",
    "for name, param in model.named_parameters():\n",
    "    if 'weight' in name:\n",
    "        print(name, param.data)"
   ]
  },
  {
   "cell_type": "code",
   "execution_count": 16,
   "id": "e90f1770-386c-4eba-a425-cd0e10d9e925",
   "metadata": {},
   "outputs": [],
   "source": [
    "torch.save(model.state_dict(), 'FligneBS7CP2.pth')"
   ]
  },
  {
   "cell_type": "code",
   "execution_count": null,
   "id": "e95decd1-62d3-4561-b56d-a080529e4c59",
   "metadata": {},
   "outputs": [],
   "source": []
  }
 ],
 "metadata": {
  "kernelspec": {
   "display_name": "conda_pytorch_p310",
   "language": "python",
   "name": "conda_pytorch_p310"
  },
  "language_info": {
   "codemirror_mode": {
    "name": "ipython",
    "version": 3
   },
   "file_extension": ".py",
   "mimetype": "text/x-python",
   "name": "python",
   "nbconvert_exporter": "python",
   "pygments_lexer": "ipython3",
   "version": "3.10.13"
  }
 },
 "nbformat": 4,
 "nbformat_minor": 5
}
