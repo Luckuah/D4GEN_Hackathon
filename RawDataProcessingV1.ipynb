{
 "cells": [
  {
   "cell_type": "code",
   "execution_count": 99,
   "id": "e3e7f836-c40e-4ec8-8e7e-30641dd445dd",
   "metadata": {
    "tags": []
   },
   "outputs": [],
   "source": [
    "import torch\n",
    "from torch.utils.data import DataLoader\n",
    "import pandas as pd\n",
    "from sklearn.model_selection import train_test_split\n",
    "from torch.utils.data import Dataset\n",
    "import torch.nn as nn  \n",
    "import torch.optim as optim\n",
    "import math\n",
    "from torchsummary import summary"
   ]
  },
  {
   "cell_type": "code",
   "execution_count": null,
   "id": "4120bc16-105a-4bbc-b1e8-f4e2592eb113",
   "metadata": {},
   "outputs": [],
   "source": [
    "import os\n",
    "import pandas as pd\n",
    "import traceback"
   ]
  },
  {
   "cell_type": "code",
   "execution_count": null,
   "id": "daa55ed0-d12d-4934-aa22-2dcf43cf40cd",
   "metadata": {},
   "outputs": [],
   "source": [
    "def dataloaderV2(dossier, etat):\n",
    "    # on part d'un dossier racine où chacun des dossiers contenant les données est\n",
    "    # initialise data = tableau final\n",
    "    data = []\n",
    "    # initialise le di;ctionnaire qui va stocker toutes les valeurs de session et class par individu\n",
    "    \n",
    "    #on va parcourir tous les dossier du premier dossier\n",
    "    for dos in os.listdir(dossier):\n",
    "        #on met à jour le path pour pouvoir parcourir le sous dossier\n",
    "        dos_path = os.path.join(dossier, dos)\n",
    "        \n",
    "        sorted_files = sorted(os.listdir(dos_path))\n",
    "        \n",
    "        #on vérifie que c'est bien un dossier\n",
    "        if os.path.isdir(dos_path):\n",
    "            # on va parcourir les fichiers contenant les datas\n",
    "            n_va = 0\n",
    "            for fichier in sorted_files:\n",
    "                #on initialise l'indice de VA qui va vous permettre de parcourir le data final par colonnes\n",
    "                #vérifie que c'est bien un fichier csv\n",
    "                if fichier.endswith(\".csv\") and fichier.split(\"_\")[0].lower()== etat:\n",
    "                    print(\"fichier\", fichier) #okay va dans tous les fichiers\n",
    "                    #met à jour le path pour pouvoir ouvrir le fichier\n",
    "                    filepath = os.path.join(dos_path, fichier)\n",
    "                    try:\n",
    "                        df = pd.read_csv(filepath, header = 0, low_memory=False)\n",
    "                    except Exception as e:\n",
    "                        print(f\"Error reading file '{va}': {e}\")\n",
    "                        \n",
    "                    for indiv in range(len(data)):\n",
    "                        # Expand this individual's list if it doesn't have enough slots\n",
    "                        while len(data[indiv]) <= n_va:\n",
    "                            required_length = n_va + 1\n",
    "                            current_length = len(data[indiv])\n",
    "                            additional_slots_needed = required_length - current_length\n",
    "                            if additional_slots_needed > 0:\n",
    "                                data[indiv].extend([None] * additional_slots_needed)\n",
    "                            \n",
    "                    # on va otérer sur toutes les datas de ce fichier, \n",
    "                    # avec num indiv indice de 0 ua bout, index = index de lignes et row la data\n",
    "                    for indiv, (index, row) in enumerate(df.iterrows()):\n",
    "                        try:\n",
    "                            #print(f\"before indiv: {indiv}, n_va: {n_va}, len(data[indiv]): {len(data[indiv])}\")\n",
    "                            # Ensure the sublist exists and is of the correct length\n",
    "                            while len(data) <= indiv:\n",
    "                                #print(\"data avant ajustement pas d'indiv : \", data) okay les datas sont correctes\n",
    "                                # Extend data list with empty lists as needed\n",
    "                                #data.extend([[] for _ in range(indiv - len(data) + 1)])\n",
    "                                data.extend([[]] * (indiv - len(data) + 1))\n",
    "                                # Diagnostic prints to understand the structure just before the error occurs\n",
    "                                #print(f\"Attempting assignment to data[{indiv}][{n_va}].\")\n",
    "                                #print(f\"len(data): {len(data)}, len(data[{indiv}]): {len(data[indiv])}.\")\n",
    "\n",
    "                                #print(\"data avant ajustement pas d'indiv : \", data)okay les datas sont correctes\n",
    "                            while len(data[indiv]) <= n_va:\n",
    "                                #print(\"rien dans les indiv = pas de va AVANT : \", data) okay les datas sont correctes\n",
    "                                # Extend the sublist with None values as placeholders\n",
    "                                #data[indiv].extend([None for _ in range(n_va - len(data[indiv]) + 1)])\n",
    "                                data[indiv].append([])    \n",
    "                                #data[indiv].append(None)\n",
    "                            #print(f\"after indiv: {indiv}, n_va: {n_va}, len(data[indiv]): {len(data[indiv])}\")\n",
    "                            \n",
    "                                #print(\"rien dans les indiv = pas de va APRES : \", data)\n",
    "                            # Now safe to assign the value\n",
    "                            #print(f\"Right before assignment to data[{indiv}][{n_va}]: len(data): {len(data)}, len(data[{indiv}]): {len(data[indiv])}, len(data[{indiv}][{n_va}]): 'Will be set'\")\n",
    "\n",
    "                           \n",
    "                            # Extract session and class if already present\n",
    "                            if len(data[indiv]) >= 2:\n",
    "                                #print(\"session class deja la AVANT : \", data[indiv])# okay les datas sont correctes\n",
    "                                session_data, class_data = data[indiv][-2:]  # Extract existing session and class\n",
    "                                data[indiv] = data[indiv][:-2]  # Remove session and class from the current list\n",
    "                                #print(\"session class deja la APRES : \", data) okay les datas sont correctes\n",
    "                                #print(\"session class deja la APRES : \", data[indiv]) okay les datas sont correctes\n",
    "                                #print(\"session : \", session_data, \" class : \", class_data) okay les datas sont correctes\n",
    "                            else:\n",
    "                                #print(\"recup session class depuis datas\")\n",
    "                                session_data, class_data = row.iloc[-2], row.iloc[-1]  # Get new session and class\n",
    "                                #print(\"session : \", session_data, \" class : \", class_data) print(\"session : \", session_data, \" class : \", class_data\n",
    "\n",
    "                            # For each individual, append the new row data, excluding session and class\n",
    "                            #row_data = row.iloc[:-2].tolist()\n",
    "                            #data[indiv].extend(row_data)  # Append the new row data\n",
    "                            \n",
    "                           # print(\"data avant append nouvelle va : \", data[indiv][n_va]) okay les datas sont correctes\n",
    "                            data[indiv].append(row.iloc[:-2].tolist())\n",
    "                            #print(\"data apres append nouvelle va : \", data[indiv][n_va]) okay les datas sont correctes\n",
    "                            # Re-append the session and class data at the end\n",
    "                            #print(\"data avant append nouvelle va append session/class: \", data[indiv]) okay les datas sont correctes\n",
    "                            data[indiv].append([session_data])\n",
    "                            #print(\"data apres append nouvelle va append session: \", data[indiv]) okay les datas sont correctes\n",
    "                            data[indiv].append([class_data])\n",
    "                            #print(\"data apres append nouvelle va append class: \", data[indiv]) okay les datas sont correctes\n",
    "                            \n",
    "                        #except (IndexError, TypeError):\n",
    "                        except (IndexError, TypeError) as e:\n",
    "                            print(f\"error: {type(e).name}\")\n",
    "                            #if isinstance(row.iloc[:-2], pd.Series):\n",
    "                             #   data.append([row.iloc[:-2].tolist()])\n",
    "                            #traceback.print_exc()\n",
    "                            # Properly append a new sublist if catching an IndexError before this logic\n",
    "                            #if isinstance(row.iloc[:-2], pd.Series):\n",
    "                            #    data.append([row.iloc[:-2].tolist()])\n",
    "                            #    print(\"error\")\n",
    "                            #else:\n",
    "                                # Handle unexpected data format\n",
    "                             #   data.append([None])\n",
    "                            \n",
    "                    n_va +=1\n",
    "\n",
    "    return data    \n"
   ]
  },
  {
   "cell_type": "code",
   "execution_count": 93,
   "id": "285e5620-5ea6-4c70-9935-3cc94c8fb640",
   "metadata": {
    "tags": []
   },
   "outputs": [],
   "source": [
    "tab = [[[10,10,10,10,10],[11,11,11,11,11],[12,12,12,12,12],[13,13,13,13,13]],[[10,10,10,10],[11,11,11,11],[12,12,12,12,12,12],[13,13,13,13,13,13,13]]]\n",
    "\n",
    "DataLen = len(tab)\n",
    "ModelNum = len(tab[0])\n",
    "inputs = [0] * ModelNum  # Create a list of size n with all elements initialized to 0\n",
    "for i in range(ModelNum):\n",
    "    inputs[i] = len(tab[0][i])\n",
    "inputs_cuda = [torch.randn(1, inp).to('cuda') for inp in inputs]"
   ]
  },
  {
   "cell_type": "code",
   "execution_count": 97,
   "id": "c234bdc4-b449-4fc2-a4be-7e3970e4748a",
   "metadata": {
    "tags": []
   },
   "outputs": [
    {
     "ename": "AttributeError",
     "evalue": "'list' object has no attribute 'fc'",
     "output_type": "error",
     "traceback": [
      "\u001b[0;31m---------------------------------------------------------------------------\u001b[0m",
      "\u001b[0;31mAttributeError\u001b[0m                            Traceback (most recent call last)",
      "Cell \u001b[0;32mIn[97], line 32\u001b[0m\n\u001b[1;32m     29\u001b[0m FinalModel \u001b[38;5;241m=\u001b[39m MLP(ModelNum)\n\u001b[1;32m     31\u001b[0m \u001b[38;5;28;01mfor\u001b[39;00m i \u001b[38;5;129;01min\u001b[39;00m \u001b[38;5;28mrange\u001b[39m(\u001b[38;5;28mint\u001b[39m(math\u001b[38;5;241m.\u001b[39mlog2(ModelNum)\u001b[38;5;241m+\u001b[39m\u001b[38;5;241m1\u001b[39m)):\n\u001b[0;32m---> 32\u001b[0m     \u001b[38;5;28mprint\u001b[39m(\u001b[43mmodel\u001b[49m\u001b[38;5;241;43m.\u001b[39;49m\u001b[43mfc\u001b[49m[i])\n\u001b[1;32m     34\u001b[0m \u001b[38;5;66;03m#for i in range(ModelNum):\u001b[39;00m\n\u001b[1;32m     35\u001b[0m \u001b[38;5;66;03m#    #summary(model[i], (5,))\u001b[39;00m\n\u001b[1;32m     36\u001b[0m \u001b[38;5;66;03m#    if any(p.is_cuda for p in model[i].parameters()):\u001b[39;00m\n\u001b[0;32m   (...)\u001b[0m\n\u001b[1;32m     40\u001b[0m \n\u001b[1;32m     41\u001b[0m \u001b[38;5;66;03m# Summarize models\u001b[39;00m\n",
      "\u001b[0;31mAttributeError\u001b[0m: 'list' object has no attribute 'fc'"
     ]
    }
   ],
   "source": [
    "class MLP(nn.Module):\n",
    "    def __init__(self,input):\n",
    "        super().__init__()\n",
    "        self.in_dim = input\n",
    "        self.fc = []\n",
    "        layer = 2**int(math.log2(self.in_dim))\n",
    "        self.fc.append(nn.Linear(self.in_dim, layer))\n",
    "        layer = int(layer/2)\n",
    "        for i in range(int(math.log2(self.in_dim))):\n",
    "            self.fc.append(nn.Linear(layer*2, layer))\n",
    "            layer = int(layer/2)\n",
    "        self.relu = nn.ReLU()\n",
    "        self.log_softmax = nn.LogSoftmax(dim=1)\n",
    "        #print(\"init a nn with an input of \",input,\" layer of \" , 2**int(math.log2(self.in_dim)))\n",
    "        #for i in range(int(math.log2(self.in_dim)+1)):\n",
    "        #    print(self.fc[i])\n",
    "    \n",
    "    def forward(self, x):\n",
    "        a = []\n",
    "        a.append(self.relu(self.fc[0](x)))\n",
    "        for i in range(len(self.fc)-1):\n",
    "           a.append(self.relu(self.fc[i+1](a[i])))\n",
    "        output = self.log_softmax(a[len(a)-1])\n",
    "        return output\n",
    "\n",
    "model = []\n",
    "for i in range(ModelNum):\n",
    "    model.append(MLP(inputs[i]))\n",
    "FinalModel = MLP(ModelNum)\n",
    "\n",
    "for i in range(int(math.log2(ModelNum)+1)):\n",
    "    print(model.fc[i])\n",
    "\n",
    "#for i in range(ModelNum):\n",
    "#    #summary(model[i], (5,))\n",
    "#    if any(p.is_cuda for p in model[i].parameters()):\n",
    "#        print(\"Model is on CUDA\")\n",
    "#    else:\n",
    "#        print(\"Model is on CPU\")\n",
    "\n",
    "# Summarize models"
   ]
  },
  {
   "cell_type": "code",
   "execution_count": 90,
   "id": "19e8067f-16df-4a50-a8db-ba7e91d63c27",
   "metadata": {},
   "outputs": [
    {
     "name": "stdout",
     "output_type": "stream",
     "text": [
      "test\n",
      "test\n",
      "relu\n",
      "ReLU()\n",
      "test\n",
      "log_softmax\n",
      "LogSoftmax(dim=1)\n",
      "test\n",
      "relu\n",
      "ReLU()\n",
      "test\n",
      "log_softmax\n",
      "LogSoftmax(dim=1)\n",
      "test\n",
      "relu\n",
      "ReLU()\n",
      "test\n",
      "log_softmax\n",
      "LogSoftmax(dim=1)\n",
      "test\n",
      "relu\n",
      "ReLU()\n",
      "test\n",
      "log_softmax\n",
      "LogSoftmax(dim=1)\n"
     ]
    }
   ],
   "source": [
    "print(\"test\")\n",
    "for name, param in FinalModel.named_parameters():\n",
    "    print(name, param.data)\n",
    "for i in range(len(model)):\n",
    "    for name, module in model[i].named_children():\n",
    "        print(\"test\")\n",
    "        print(name)\n",
    "        print(module)"
   ]
  },
  {
   "cell_type": "code",
   "execution_count": 88,
   "id": "fca864b3-05f9-49f5-81d4-63da0b641b40",
   "metadata": {
    "tags": []
   },
   "outputs": [],
   "source": []
  },
  {
   "cell_type": "code",
   "execution_count": 98,
   "id": "56e1ea78-c27e-4ebb-945b-3ee50a4c18ff",
   "metadata": {},
   "outputs": [
    {
     "name": "stdout",
     "output_type": "stream",
     "text": [
      "[1, 2, 3, 4, 5, 6, 7, 8, 9, 10]\n"
     ]
    }
   ],
   "source": []
  },
  {
   "cell_type": "code",
   "execution_count": null,
   "id": "52cd743a-62f8-44c3-8363-2c5f2a6cd08a",
   "metadata": {},
   "outputs": [],
   "source": []
  }
 ],
 "metadata": {
  "kernelspec": {
   "display_name": "conda_pytorch_p310",
   "language": "python",
   "name": "conda_pytorch_p310"
  },
  "language_info": {
   "codemirror_mode": {
    "name": "ipython",
    "version": 3
   },
   "file_extension": ".py",
   "mimetype": "text/x-python",
   "name": "python",
   "nbconvert_exporter": "python",
   "pygments_lexer": "ipython3",
   "version": "3.10.13"
  }
 },
 "nbformat": 4,
 "nbformat_minor": 5
}
