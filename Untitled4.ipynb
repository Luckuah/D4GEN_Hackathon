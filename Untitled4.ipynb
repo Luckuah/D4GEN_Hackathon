{
 "cells": [
  {
   "cell_type": "code",
   "execution_count": 5,
   "id": "16f9d757-76dd-41a9-b1ba-d91977cc9397",
   "metadata": {
    "tags": []
   },
   "outputs": [],
   "source": [
    "import pandas as pd\n",
    "\n",
    "# Read the CSV file into a DataFrame\n",
    "df = pd.read_csv('MEFAR_UP.csv')\n",
    "\n",
    "# Select only the desired columns\n",
    "desired_columns = ['BVP', 'EDA', 'TEMP','X','Y','Z','HR','class']  # List the columns you want to keep\n",
    "extracted_df = df[desired_columns]\n",
    "\n",
    "# Optionally, you can write the extracted columns to a new CSV file\n",
    "extracted_df.to_csv('MEFAR_UP_WITHOUT_EDG.csv', index=False)"
   ]
  },
  {
   "cell_type": "code",
   "execution_count": null,
   "id": "ca53ce6d-015a-46a0-804d-0d012cd0d6ed",
   "metadata": {},
   "outputs": [],
   "source": []
  }
 ],
 "metadata": {
  "kernelspec": {
   "display_name": "conda_python3",
   "language": "python",
   "name": "conda_python3"
  },
  "language_info": {
   "codemirror_mode": {
    "name": "ipython",
    "version": 3
   },
   "file_extension": ".py",
   "mimetype": "text/x-python",
   "name": "python",
   "nbconvert_exporter": "python",
   "pygments_lexer": "ipython3",
   "version": "3.10.13"
  }
 },
 "nbformat": 4,
 "nbformat_minor": 5
}
