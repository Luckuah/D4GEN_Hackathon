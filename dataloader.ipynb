{
 "cells": [
  {
   "cell_type": "code",
   "execution_count": 8,
   "id": "5d6f52c4-0c4a-454a-9377-63561ef380d2",
   "metadata": {
    "tags": []
   },
   "outputs": [],
   "source": [
    "def dataloader(filename):\n",
    "    val = []\n",
    "    ret = []\n",
    "    with open(filename, \"r\") as f:\n",
    "        for l in f:\n",
    "            liste = l.split(\";\")\n",
    "            val.append(liste[:len(liste)-2])\n",
    "            ret.append(liste[-1])\n",
    "    return (val, ret)"
   ]
  },
  {
   "cell_type": "code",
   "execution_count": null,
   "id": "61cd44e3-db62-473f-9441-c56548a6df43",
   "metadata": {
    "tags": []
   },
   "outputs": [],
   "source": [
    "print(dataloader(\"./MEFAR_UP.csv\")[1])"
   ]
  },
  {
   "cell_type": "code",
   "execution_count": 20,
   "id": "5b9074a7-4428-4ada-a14c-9d5f23b5692a",
   "metadata": {
    "tags": []
   },
   "outputs": [],
   "source": [
    "import torch\n",
    "from torch.utils.data import Dataset, DataLoader\n",
    "import pandas as pd\n",
    "\n",
    "class CustomDataset(Dataset):\n",
    "    def __init__(self, csv_file):\n",
    "        self.data = pd.read_csv(csv_file)\n",
    "        self.features = self.data.c[:, :-1].values\n",
    "        self.targets = self.data.iloc[:, -1].values\n",
    "\n",
    "    def __len__(self):\n",
    "        return len(self.data)\n",
    "\n",
    "    def __getitem__(self, idx):\n",
    "        features = torch.tensor(self.features[idx], dtype=torch.float32)\n",
    "        target = torch.tensor(self.targets[idx], dtype=torch.float32)\n",
    "        return features, target\n",
    "    \n",
    "    def __print__(self):\n",
    "        print(self.features)\n",
    "        print(self.targets)\n",
    "\n",
    "# Example usage:\n",
    "if __name__ == \"__main__\":\n",
    "    # Example CSV file\n",
    "    csv_file = \"./MEFAR_UP.csv\"\n",
    "\n",
    "    # Create dataset and dataloader\n",
    "    dataset = CustomDataset(csv_file)\n",
    "    \n",
    "    \n",
    "    #dataloader = DataLoader(dataset, batch_size=32, shuffle=True)\n",
    "\n",
    "    # Example iteration over batches\n",
    "    #for batch_features, batch_targets in dataloader:\n",
    "     #   print(\"Batch Features:\", batch_features)\n",
    "      #  print(\"Batch Targets:\", batch_targets)\n"
   ]
  },
  {
   "cell_type": "code",
   "execution_count": 23,
   "id": "c0058cb2-03ba-4078-a003-0b56793ac538",
   "metadata": {
    "tags": []
   },
   "outputs": [
    {
     "name": "stdout",
     "output_type": "stream",
     "text": [
      "[[-1.16915756e-01  2.62151461e-02  7.78823529e-01 ...  4.43760084e-02\n",
      "   4.84848485e-01  9.09090909e-02]\n",
      " [-1.07261752e-01  2.62151461e-02  7.78823529e-01 ...  4.43760084e-02\n",
      "   4.84848485e-01  9.09090909e-02]\n",
      " [-9.89194337e-02  2.62151461e-02  7.78823529e-01 ...  4.43760084e-02\n",
      "   4.84848485e-01  9.09090909e-02]\n",
      " ...\n",
      " [-1.13479227e-01 -7.90195806e-01  2.28235294e-01 ...  3.26117413e-02\n",
      "   1.31313131e-01  3.43434343e-01]\n",
      " [-1.03086751e-01 -8.16386503e-01  2.30588235e-01 ...  8.29682598e-05\n",
      "   7.67676768e-01  2.02020202e-01]\n",
      " [-8.45977816e-02 -9.71833880e-01 -6.04705882e-01 ...  2.25915460e-02\n",
      "   1.00000000e+00  9.39393939e-01]]\n"
     ]
    }
   ],
   "source": [
    "print(dataset.features)"
   ]
  },
  {
   "cell_type": "code",
   "execution_count": null,
   "id": "1260eff5-1d86-4b48-8d7f-55148e3b7cdb",
   "metadata": {},
   "outputs": [],
   "source": []
  }
 ],
 "metadata": {
  "kernelspec": {
   "display_name": "conda_pytorch_p310",
   "language": "python",
   "name": "conda_pytorch_p310"
  },
  "language_info": {
   "codemirror_mode": {
    "name": "ipython",
    "version": 3
   },
   "file_extension": ".py",
   "mimetype": "text/x-python",
   "name": "python",
   "nbconvert_exporter": "python",
   "pygments_lexer": "ipython3",
   "version": "3.10.13"
  }
 },
 "nbformat": 4,
 "nbformat_minor": 5
}
